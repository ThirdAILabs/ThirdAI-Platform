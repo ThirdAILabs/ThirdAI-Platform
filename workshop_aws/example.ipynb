{
 "cells": [
  {
   "cell_type": "code",
   "execution_count": 1,
   "metadata": {},
   "outputs": [],
   "source": [
    "import requests\n",
    "from requests.auth import HTTPBasicAuth\n",
    "import json\n",
    "import os\n",
    "from typing import List, Dict, Optional\n",
    "import time\n",
    "import re\n",
    "import uuid\n",
    "\n",
    "BASE_URL = \"http://34.236.171.80/\""
   ]
  },
  {
   "cell_type": "code",
   "execution_count": 2,
   "metadata": {},
   "outputs": [],
   "source": [
    "def login(email: str, password: str):\n",
    "    \"\"\"\n",
    "    Login a user with the given email and password.\n",
    "    If successful, this function returns an access token.\n",
    "    \"\"\"\n",
    "    url = f\"{BASE_URL}/api/user/email-login\"\n",
    "    response = requests.get(url, auth=HTTPBasicAuth(email, password))\n",
    "    result = response.json()\n",
    "    token = result.get(\"data\", {}).get(\"access_token\")\n",
    "    return token\n",
    "\n",
    "def list_models(\n",
    "    name: str, token: str, domain=None, username=None, type=None, sub_type=None, access_level=None\n",
    "):\n",
    "    \"\"\"\n",
    "    List models based on filters for authenticated users.\n",
    "    Returns:\n",
    "    - List of models that match the provided filters.\n",
    "    \"\"\"\n",
    "    url = f\"{BASE_URL}/api/model/list\"\n",
    "    headers = {\"Authorization\": f\"Bearer {token}\"}\n",
    "    params = {\n",
    "        \"name\": name,\n",
    "        \"domain\": domain,\n",
    "        \"username\": username,\n",
    "        \"type\": type,\n",
    "        \"sub_type\": sub_type,\n",
    "        \"access_level\": access_level,\n",
    "    }\n",
    "    response = requests.get(\n",
    "        url, headers=headers, params={k: v for k, v in params.items() if v is not None}\n",
    "    )\n",
    "    return response.json()"
   ]
  },
  {
   "cell_type": "code",
   "execution_count": 3,
   "metadata": {},
   "outputs": [],
   "source": [
    "def query_retrieval_model(model_id: str, query: str, token: str):\n",
    "    \"\"\"\n",
    "    Retrieves top k most relevant references to the query from the deployed model.\n",
    "    Parameters:\n",
    "    - model_id: <username>/<modelname>\n",
    "    - query: The query to search for.\n",
    "    - token: Authorization token from login\n",
    "    \"\"\"\n",
    "    # Define the URL for querying the deployed model\n",
    "    headers = {\"Authorization\": f\"Bearer {token}\"}\n",
    "    query_url = f\"{BASE_URL}/{model_id}/search\"\n",
    "    # Set up the query parameters\n",
    "    base_params = {\"query\": query, \"top_k\": 5}\n",
    "    # Make a POST request to query the model\n",
    "    response = requests.post(\n",
    "        query_url,\n",
    "        json=base_params,\n",
    "        headers=headers,\n",
    "    )\n",
    "    # Check if the query was successful; if not, raise an exception\n",
    "    if response.status_code != 200:\n",
    "        raise Exception(f\"Query failed: {response.status_code}, {response.text}\")\n",
    "    return response.json()[\"data\"][\"references\"]\n",
    "\n",
    "def query_sentiment_model(model_id: str, query: str, token: str):\n",
    "    \"\"\"\n",
    "    Retrieves top k most relevant references to the query from the deployed model.\n",
    "    Parameters:\n",
    "    - model_id: <username>/<modelname>\n",
    "    - query: The query to search for.\n",
    "    - token: Authorization token from login\n",
    "    \"\"\"\n",
    "    # Define the URL for querying the deployed model\n",
    "    headers = {\"Authorization\": f\"Bearer {token}\"}\n",
    "    query_url = f\"{BASE_URL}/{model_id}/predict\"\n",
    "    # Set up the query parameters\n",
    "    base_params = {\"text\": query, \"top_k\": 5}\n",
    "    # Make a POST request to query the model\n",
    "    response = requests.post(\n",
    "        query_url,\n",
    "        json=base_params,\n",
    "        headers=headers,\n",
    "    )\n",
    "    # Check if the query was successful; if not, raise an exception\n",
    "    if response.status_code != 200:\n",
    "        raise Exception(f\"Query failed: {response.status_code}, {response.text}\")\n",
    "    return response.json()[\"data\"][\"predicted_classes\"]"
   ]
  },
  {
   "cell_type": "code",
   "execution_count": 4,
   "metadata": {},
   "outputs": [],
   "source": [
    "def token_classifier_predict(model_id: str, query: str, token: str, top_k=1):\n",
    "    \"\"\"\n",
    "    Predicts the NER tags for a given query.\n",
    "    Parameters:\n",
    "    - model_id: model ID as returned by create_token_classifier. You can also find the model ID in the list returned by list_models.\n",
    "    - query: The passage to predict the NER tags for.\n",
    "    - token: Authorization token from login\n",
    "    - top_k: The number of tags predicted for each token.\n",
    "    Returns a dictionary in this format:\n",
    "    {\n",
    "        \"text\": \"The text that was passed in\",\n",
    "        \"predicted_tags\": [\n",
    "            [\"TOP_TAG_FOR_FIRST_TOKEN\", \"SCORE_FOR_TOP_TAG_FOR_FIRST_TOKEN\", ...],\n",
    "            [\"TOP_TAG_FOR_SECOND_TOKEN\", \"SCORE_FOR_TOP_TAG_FOR_SECOND_TOKEN\", ...],\n",
    "            ...\n",
    "            [\"TOP_TAG_FOR_LAST_TOKEN\", \"SCORE_FOR_TOP_TAG_FOR_LAST_TOKEN\", ...]\n",
    "        ]\n",
    "    }\n",
    "    The number of tags predicted for each token is specified in the top_k parameter.\n",
    "    \"\"\"\n",
    "    headers = {\"Authorization\": f\"Bearer {token}\"}\n",
    "    query_url = f\"{BASE_URL}/{model_id}/predict\"\n",
    "    base_params = {\"text\": query, \"top_k\": top_k}\n",
    "    response = requests.post(\n",
    "        query_url,\n",
    "        json=base_params,\n",
    "        headers=headers,\n",
    "    )\n",
    "    # Check if the query was successful; if not, raise an exception\n",
    "    if response.status_code != 200:\n",
    "        raise Exception(f\"Query failed: {response.status_code}, {response.text}\")\n",
    "    return response.json()[\"data\"]\n",
    "\n",
    "def obfuscate_pii(token_classifier_model_id: str, text_chunks: List[str], auth_token: str):\n",
    "    \"\"\"\n",
    "    Obfuscates PII in the references using the NER model by replacing them with placeholders.\n",
    "    Parameters:\n",
    "    - token_classifier_model_id: model ID as returned by create_token_classifier. You can also find the model ID in the list returned by list_models.\n",
    "    - text_chunks: A list of strings containing the text to obfuscate.\n",
    "    - auth_token: Authorization token from login\n",
    "    Returns a tuple containing:\n",
    "    - A list of strings containing the obfuscated PII information.\n",
    "    - A dictionary containing the mapping of obfuscated tokens to original tokens.\n",
    "    \"\"\"\n",
    "    token_to_tag = {}\n",
    "    token_counts = {}\n",
    "    for text in text_chunks:\n",
    "        text = \" \".join(text.split())\n",
    "        predicted_tags = token_classifier_predict(auth_token, token_classifier_model_id, text)\n",
    "        predicted_tags = predicted_tags[\"predicted_tags\"]\n",
    "        for i, token in enumerate(text.split()):\n",
    "            tag = predicted_tags[i][0]\n",
    "            if tag != \"O\":\n",
    "                if token not in token_to_tag:\n",
    "                    tg = f\"<{tag}>\"\n",
    "                    token_to_tag[token] = tg\n",
    "    token_counts = {v: 0 for k, v in token_to_tag.items()}\n",
    "    inverse_map = {}\n",
    "    for k, v in token_to_tag.items():\n",
    "        new_tag = v[:-1] + f\"_{token_counts[v]}>\"\n",
    "        inverse_map[new_tag] = k\n",
    "        token_to_tag[k] = new_tag\n",
    "        token_counts[v] += 1\n",
    "    output_text = []\n",
    "    for text in text_chunks:\n",
    "        text = \" \".join(text.split())\n",
    "        redacted_text = [\n",
    "            word if word not in token_to_tag else token_to_tag[word]\n",
    "            for word in text.split()\n",
    "        ]\n",
    "        output_text.append(\" \".join(redacted_text))\n",
    "    return output_text, inverse_map\n",
    "\n",
    "def restore_pii(text: str, tag_to_token: Dict[str, str]):\n",
    "    \"\"\"\n",
    "    Restores the PII in the text by replacing the placeholders with the original tokens.\n",
    "    Parameters:\n",
    "    - text: A string containing the obfuscated PII information.\n",
    "    - tag_to_token: A dictionary containing the mapping of obfuscated tokens to original tokens.\n",
    "\n",
    "    Returns a string containing the restored PII information.\n",
    "    \"\"\"\n",
    "    restored_text = []\n",
    "    for word in text.split():\n",
    "        word = strip_non_alphanumeric(word)\n",
    "        if word in tag_to_token.keys():\n",
    "            restored_text.append(tag_to_token[word])\n",
    "        else:\n",
    "            restored_text.append(word)\n",
    "    return \" \".join(restored_text)\n",
    "\n",
    "\n",
    "def strip_non_alphanumeric(word):\n",
    "    pattern = r\"^[^a-zA-Z0-9_<>\\s]+|[^a-zA-Z0-9_<>\\s]+$\"\n",
    "    cleaned_string = re.sub(pattern, \"\", word)\n",
    "    return cleaned_string"
   ]
  },
  {
   "cell_type": "code",
   "execution_count": 5,
   "metadata": {},
   "outputs": [],
   "source": [
    "def chat(model_id: str, user_input: str, token: str, session_id: str = None):\n",
    "    \"\"\"\n",
    "    Sends a chat request to the /chat endpoint.\n",
    "    Parameters:\n",
    "    - user_input: The message or query from the user.\n",
    "    - token: Authorization token from login.\n",
    "    - session_id: (Optional) Session ID for maintaining conversation context.\n",
    "    Returns:\n",
    "    - Response from the chat API.\n",
    "    \"\"\"\n",
    "    chat_url = f\"{BASE_URL}/{model_id}/chat\"\n",
    "    headers = {\"Authorization\": f\"Bearer {token}\"}\n",
    "    payload = {\n",
    "        \"user_input\": user_input,\n",
    "        \"session_id\": session_id,\n",
    "        \"provider\": \"on-prem\"\n",
    "    }\n",
    "    response = requests.post(chat_url, json=payload, headers=headers)\n",
    "    if response.status_code != 200:\n",
    "        raise Exception(f\"Chat request failed: {response.status_code}, {response.text}\")\n",
    "    return response.json()"
   ]
  },
  {
   "cell_type": "code",
   "execution_count": 6,
   "metadata": {},
   "outputs": [],
   "source": [
    "retrieval_model_id = \"250a9631-9627-47c8-bbdc-30ada92ef5f9\"\n",
    "token_model_id = \"40070a21-b6f3-4607-9289-3f6218af9597\"\n",
    "sentiment_model_id = \"ac58ccaf-8031-433a-9ab5-db20af83b978\""
   ]
  },
  {
   "cell_type": "code",
   "execution_count": 7,
   "metadata": {},
   "outputs": [],
   "source": [
    "token = login(\"admin@thirdai.com\", \"password\")"
   ]
  },
  {
   "cell_type": "code",
   "execution_count": 8,
   "metadata": {},
   "outputs": [
    {
     "name": "stdout",
     "output_type": "stream",
     "text": [
      "[{'id': 9, 'text': \"mobile plans home internet & tv packages and much more! | du why have my monthly recurring charges increased? * if there is an increase in your monthly recurring charges it could be any of the following reasons: o you've upgraded your plan to another plan with a higher monthly recurring charge. o you've purchased additional recurring or one-time bundles on your plan such as data minutes roaming bundles etc. o you've purchased a new device with an instalment plan * please refer to the bill guide to understand more about each component in your monthly du bill.\", 'context': '', 'source': '/model_bazaar/models/250a9631-9627-47c8-bbdc-30ada92ef5f9/model.ndb/documents/3bbc2f6e-adaf-4d75-9e39-e5bba6b3f1b4/du_faqs.pdf', 'metadata': {'highlight': '{1: [12, 13, 14], 2: [0, 1, 2, 3, 4, 5, 6, 7]}', 'page': '1'}, 'source_id': '7f42a63a-2083-48da-b874-4a920938980d', 'score': 1.0522379875183105}, {'id': 64, 'text': 'you can register your gcc mastercard or visa credit card through: 1. du app (android and ios ) 2. my account 3. du shops du app * login to the du app and click on the settings icon on the top right corner * select \"payment card\" * update your card details and save my account * click on \"payments\" * enter your card details and save mobile plans home internet & tv packages and much more!', 'context': '', 'source': '/model_bazaar/models/250a9631-9627-47c8-bbdc-30ada92ef5f9/model.ndb/documents/3bbc2f6e-adaf-4d75-9e39-e5bba6b3f1b4/du_faqs.pdf', 'metadata': {'highlight': '{19: [5, 6, 7, 8, 9, 10, 11, 12, 13, 14], 20: [0, 1, 2, 3, 4, 5, 6, 7, 8, 9, 10, 11, 12]}', 'page': '19'}, 'source_id': '7f42a63a-2083-48da-b874-4a920938980d', 'score': 1.037456750869751}, {'id': 43, 'text': 'get live chat support (through app only) chat with a du customer service agent between 8 am to midnight everyday. my account profile create a my account profile where you can: -access all your accounts -change your username & password -view your primary contact number -view & edit your alternate contact number -view & edit your billing address & method -view your plan benefits -view & manage your contract renewals & device installment plans how can i check my outstanding bill? you can check your outstanding bill amount to be paid via: 1. du app - on the main page 2. my account - on the main dashboard 3. sms \"bill\" to 1233 mobile plans home internet & tv packages and much more! | du how can i check my unbilled usage?', 'context': '', 'source': '/model_bazaar/models/250a9631-9627-47c8-bbdc-30ada92ef5f9/model.ndb/documents/3bbc2f6e-adaf-4d75-9e39-e5bba6b3f1b4/du_faqs.pdf', 'metadata': {'highlight': '{15: [6, 7, 8, 9, 10], 16: [0, 1, 2, 3, 4]}', 'page': '15'}, 'source_id': '7f42a63a-2083-48da-b874-4a920938980d', 'score': 0.6783549189567566}, {'id': 68, 'text': 'mobile plans home internet & tv packages and much more! | du how can i get my refund? bank transfer - you can email us using your registered email with du at customer.care@du.ae with your local (uae) bank details mentioned below and the refund will be transferred to your account bank name iban number bank branch account name bank address cash refund - can be requested at our following du stores (maximum of aed 5000): dubai hills mall - dubai hamdan branch - abu dhabi city center - fujairah manar mall - ras al khaimah umm al quwain store - umm al quwain ajman city center - ajman mobile plans home internet & tv packages and much more! | du how do i set up auto payment?', 'context': '', 'source': '/model_bazaar/models/250a9631-9627-47c8-bbdc-30ada92ef5f9/model.ndb/documents/3bbc2f6e-adaf-4d75-9e39-e5bba6b3f1b4/du_faqs.pdf', 'metadata': {'highlight': '{20: [17], 21: [0, 1, 2]}', 'page': '20'}, 'source_id': '7f42a63a-2083-48da-b874-4a920938980d', 'score': 0.6331170797348022}, {'id': 54, 'text': \"mobile plans home internet & tv packages and much more! | du how can i check my free units? you can check your free units through: * du app * my account * sms - send 'rewards' to 1233 on the du app the units displayed are combined units. click on the arrow next to the free units to have a detailed view.\", 'context': '', 'source': '/model_bazaar/models/250a9631-9627-47c8-bbdc-30ada92ef5f9/model.ndb/documents/3bbc2f6e-adaf-4d75-9e39-e5bba6b3f1b4/du_faqs.pdf', 'metadata': {'highlight': '{17: [11, 12, 13], 18: [0, 1, 2, 3, 4, 5]}', 'page': '17'}, 'source_id': '7f42a63a-2083-48da-b874-4a920938980d', 'score': 0.551293134689331}]\n"
     ]
    }
   ],
   "source": [
    "results = query_retrieval_model(retrieval_model_id, \"how to upgrade ios version\", token)\n",
    "\n",
    "print(results)"
   ]
  },
  {
   "cell_type": "code",
   "execution_count": 9,
   "metadata": {},
   "outputs": [
    {
     "name": "stdout",
     "output_type": "stream",
     "text": [
      "{'query_text': 'my name is david and my phone number is 9728172948', 'tokens': ['my', 'name', 'is', 'david', 'and', 'my', 'phone', 'number', 'is', '9728172948'], 'predicted_tags': [['O'], ['O'], ['O'], ['NAME'], ['O'], ['O'], ['O'], ['O'], ['O'], ['PHONENUMBER']]}\n"
     ]
    }
   ],
   "source": [
    "token_tags = token_classifier_predict(token_model_id, \"my name is david and my phone number is 9728172948\", token)\n",
    "\n",
    "print(token_tags)"
   ]
  },
  {
   "cell_type": "code",
   "execution_count": 10,
   "metadata": {},
   "outputs": [
    {
     "data": {
      "text/plain": [
       "[['negative', 0.9343262314796448],\n",
       " ['positive', 0.041376352310180664],\n",
       " ['neutral', 0.024297324940562248]]"
      ]
     },
     "execution_count": 10,
     "metadata": {},
     "output_type": "execute_result"
    }
   ],
   "source": [
    "sentiment_result = query_sentiment_model(sentiment_model_id, \"I hate this movie\", token)\n",
    "sentiment_result"
   ]
  },
  {
   "cell_type": "code",
   "execution_count": 11,
   "metadata": {},
   "outputs": [
    {
     "name": "stdout",
     "output_type": "stream",
     "text": [
      "{'query_text': 'my name is david and my phone number is 9728172948', 'tokens': ['my', 'name', 'is', 'david', 'and', 'my', 'phone', 'number', 'is', '9728172948'], 'predicted_tags': [['O'], ['O'], ['O'], ['NAME'], ['O'], ['O'], ['O'], ['O'], ['O'], ['PHONENUMBER']]}\n",
      "[['negative', 0.9343262314796448], ['positive', 0.041376352310180664], ['neutral', 0.024297324940562248]]\n"
     ]
    }
   ],
   "source": [
    "token = login(\"admin@thirdai.com\", \"password\")\n",
    "\n",
    "results = query_retrieval_model(retrieval_model_id, \"how to upgrade ios version\", token)\n",
    "\n",
    "# results is a list of dictioaries with references\n",
    "# results[0].keys()\n",
    "# dict_keys(['id', 'text', 'context', 'source', 'metadata', 'source_id', 'score'])\n",
    "\n",
    "token_tags = token_classifier_predict(token_model_id, \"my name is david and my phone number is 9728172948\", token)\n",
    "# {'query_text': 'my name is david and my phone number is 9728172948', 'tokens': ['my', 'name', 'is', 'david', 'and', 'my', 'phone', 'number', 'is', '9729991112'], 'predicted_tags': [['O'], ['O'], ['O'], ['NAME'], ['O'], ['O'], ['O'], ['O'], ['O'], ['PHONENUMBER']]} \n",
    "print(token_tags)\n",
    "\n",
    "sentiment_result = query_sentiment_model(sentiment_model_id, \"I hate this movie\", token)\n",
    "\n",
    "print(sentiment_result)"
   ]
  },
  {
   "cell_type": "code",
   "execution_count": 12,
   "metadata": {},
   "outputs": [],
   "source": [
    "sample_queries = [\n",
    "    \"how to pay my bill\",\n",
    "    \"can I recharge for a friend\",\n",
    "    \"can I recharge for a friend on the website instead of du app\",\n",
    "    \"how to get refunds when I unsubscribe\",\n",
    "]"
   ]
  },
  {
   "cell_type": "code",
   "execution_count": 13,
   "metadata": {},
   "outputs": [
    {
     "name": "stdout",
     "output_type": "stream",
     "text": [
      "No Sensitive Tokens Detected.\n",
      "Sentiment result is neutral\n",
      "Chat Response: {'status': 'success', 'message': 'Successful', 'data': {'response': \"I'm ready! Please provide me with the user's questions and I'll do my best to answer them.\"}}\n",
      "No Sensitive Tokens Detected.\n",
      "Sentiment result is neutral\n",
      "Chat Response: {'status': 'success', 'message': 'Successful', 'data': {'response': \"To pay your bill, you can use the following methods:\\n\\n1. Quick pay: Quick and fast way to do the payment without the need to login by using your credit/debit card and international American Express credit cards.\\n\\n2. Quick pay machines located in most malls and du stores\\n\\n3. 4200 N. payment self service kiosks installed across all of the UAE to pay all your postpaid and fixed bills using cash or international/uae credit/debit card (American Express/visa/master/jcb)\\n\\n4. Other channels: You can make your payments through exchange houses, Al Ansa, Fardan, Redha, Al Ansari, Al Razouki, International Exchange, Redha Al Ansari, Wall Street, Al Fardan Exchange, Al Razouki Exchange, Redha Al Fardan Exchange, Al Ansa Exchange\\n\\n5. International prepaid bundles: Click on your plan to 'buy bundle' and pay your bills using your bank card or Apple Pay via the Du app.\"}}\n"
     ]
    }
   ],
   "source": [
    "token = login(\"admin@thirdai.com\", \"password\")\n",
    "\n",
    "sentiment_map = {\"0\": \"negative\", \"1\": \"neutral\", \"2\": \"positive\"}\n",
    "\n",
    "session_id = str(uuid.uuid4())\n",
    "\n",
    "while True:\n",
    "    user_input = input(\"Enter your query: \")\n",
    "    token_tags_result = token_classifier_predict(token_model_id, user_input, token)\n",
    "    tokens = token_tags_result['tokens']\n",
    "    predicted_tags = token_tags_result['predicted_tags']\n",
    "    sensitive_tokens = [tokens[i] for i in range(len(tokens)) if predicted_tags[i][0] != \"O\"]\n",
    "    if sensitive_tokens:\n",
    "        print(\"Sensitive Tokens Detected: \", sensitive_tokens, flush=True)\n",
    "    else:\n",
    "        print(\"No Sensitive Tokens Detected.\", flush=True)\n",
    "    sentiment_result = query_sentiment_model(sentiment_model_id, user_input, token)\n",
    "    # print(sentiment_result, flush=True)\n",
    "    if sentiment_result[0][1] > 0.7 or sentiment_result[2][1] > 0.7:\n",
    "        if sentiment_result[0][1] > sentiment_result[2][1]:\n",
    "            print(f\"Sentiment result is negative\")\n",
    "        else:\n",
    "            print(f\"Sentiment result is positive\")\n",
    "    else:\n",
    "        print(f\"Sentiment result is neutral\")\n",
    "    # retrieval_results = query_retrieval_model(retrieval_model_id, user_input, token)\n",
    "    # reference_text = \"\\n\".join([result['text'] for result in retrieval_results])\n",
    "    # print(\"Reference Text:\\n\", reference_text)\n",
    "    # prompt = f\"\"\n",
    "    response = chat(retrieval_model_id, user_input, token, session_id)\n",
    "    print(\"Chat Response:\", response, flush=True)"
   ]
  },
  {
   "cell_type": "code",
   "execution_count": null,
   "metadata": {},
   "outputs": [],
   "source": []
  }
 ],
 "metadata": {
  "kernelspec": {
   "display_name": "Python 3",
   "language": "python",
   "name": "python3"
  },
  "language_info": {
   "codemirror_mode": {
    "name": "ipython",
    "version": 3
   },
   "file_extension": ".py",
   "mimetype": "text/x-python",
   "name": "python",
   "nbconvert_exporter": "python",
   "pygments_lexer": "ipython3",
   "version": "3.9.5"
  },
  "orig_nbformat": 4
 },
 "nbformat": 4,
 "nbformat_minor": 2
}
